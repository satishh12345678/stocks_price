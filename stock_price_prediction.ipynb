{
 "cells": [
  {
   "cell_type": "code",
   "execution_count": 1,
   "metadata": {
    "id": "ItAgRO9jJO9q"
   },
   "outputs": [],
   "source": [
    " \n",
    "#basic libs\n",
    "import numpy as np\n",
    "import pandas as pd\n",
    " \n",
    "#visualization libs\n",
    "import matplotlib.pyplot as plt \n",
    "import matplotlib.dates as mdates\n",
    "import seaborn as sns\n",
    "#from jupyterthemes import jtplot\n",
    "#jtplot.style(theme=\"monokai\",context=\"notebook\",ticks=True,grid=True)\n",
    " \n",
    "#warnings\n",
    "import warnings\n",
    "warnings.filterwarnings(\"ignore\")\n",
    " \n",
    "#deep learning libs\n",
    "from tensorflow.keras.models import Sequential\n",
    "from tensorflow.keras.layers import Dense,LSTM,Dropout,Activation\n",
    " \n",
    "#nlp libs\n",
    "import nltk\n",
    "from nltk.classify import NaiveBayesClassifier\n",
    "from nltk.corpus import subjectivity\n",
    "from nltk.sentiment import SentimentAnalyzer\n",
    "from nltk.util import *\n",
    " \n",
    "#preprocessing and metrics\n",
    "from sklearn import metrics,preprocessing\n",
    "from sklearn.preprocessing import MinMaxScaler\n",
    "from sklearn.metrics import mean_squared_error,r2_score\n",
    "#deep learning libs\n",
    "from tensorflow.keras.models import Sequential\n",
    "from tensorflow.keras.layers import Dense,LSTM,Dropout,Activation\n",
    "from tensorflow.keras.callbacks import EarlyStopping"
   ]
  },
  {
   "cell_type": "markdown",
   "metadata": {
    "id": "s_bpMDAEEtBG"
   },
   "source": [
    "# **Importing the datasets**"
   ]
  },
  {
   "cell_type": "code",
   "execution_count": 2,
   "metadata": {
    "id": "blTCXe10EnuM"
   },
   "outputs": [],
   "source": [
    "\n",
    "#loading the bse sensex  data\n",
    "df_stock=pd.read_csv(\"RELIANCE.csv\")\n",
    "#loading the news headlines related to the company\n",
    "df_news=pd.read_csv(\"india-news-headlines.csv\")"
   ]
  },
  {
   "cell_type": "code",
   "execution_count": 3,
   "metadata": {
    "colab": {
     "base_uri": "https://localhost:8080/",
     "height": 202
    },
    "id": "S_Tx-91WdFTT",
    "outputId": "7d910776-5fe9-42ad-fe99-587449ed99df"
   },
   "outputs": [
    {
     "data": {
      "text/html": [
       "<div>\n",
       "<style scoped>\n",
       "    .dataframe tbody tr th:only-of-type {\n",
       "        vertical-align: middle;\n",
       "    }\n",
       "\n",
       "    .dataframe tbody tr th {\n",
       "        vertical-align: top;\n",
       "    }\n",
       "\n",
       "    .dataframe thead th {\n",
       "        text-align: right;\n",
       "    }\n",
       "</style>\n",
       "<table border=\"1\" class=\"dataframe\">\n",
       "  <thead>\n",
       "    <tr style=\"text-align: right;\">\n",
       "      <th></th>\n",
       "      <th>Date</th>\n",
       "      <th>Symbol</th>\n",
       "      <th>Series</th>\n",
       "      <th>Prev Close</th>\n",
       "      <th>Open</th>\n",
       "      <th>High</th>\n",
       "      <th>Low</th>\n",
       "      <th>Last</th>\n",
       "      <th>Close</th>\n",
       "      <th>VWAP</th>\n",
       "      <th>Volume</th>\n",
       "      <th>Turnover</th>\n",
       "      <th>Trades</th>\n",
       "      <th>Deliverable Volume</th>\n",
       "      <th>%Deliverble</th>\n",
       "    </tr>\n",
       "  </thead>\n",
       "  <tbody>\n",
       "    <tr>\n",
       "      <th>0</th>\n",
       "      <td>2000-01-03</td>\n",
       "      <td>RELIANCE</td>\n",
       "      <td>EQ</td>\n",
       "      <td>233.05</td>\n",
       "      <td>237.50</td>\n",
       "      <td>251.70</td>\n",
       "      <td>237.50</td>\n",
       "      <td>251.70</td>\n",
       "      <td>251.70</td>\n",
       "      <td>249.37</td>\n",
       "      <td>4456424</td>\n",
       "      <td>1.111319e+14</td>\n",
       "      <td>NaN</td>\n",
       "      <td>NaN</td>\n",
       "      <td>NaN</td>\n",
       "    </tr>\n",
       "    <tr>\n",
       "      <th>1</th>\n",
       "      <td>2000-01-04</td>\n",
       "      <td>RELIANCE</td>\n",
       "      <td>EQ</td>\n",
       "      <td>251.70</td>\n",
       "      <td>258.40</td>\n",
       "      <td>271.85</td>\n",
       "      <td>251.30</td>\n",
       "      <td>271.85</td>\n",
       "      <td>271.85</td>\n",
       "      <td>263.52</td>\n",
       "      <td>9487878</td>\n",
       "      <td>2.500222e+14</td>\n",
       "      <td>NaN</td>\n",
       "      <td>NaN</td>\n",
       "      <td>NaN</td>\n",
       "    </tr>\n",
       "    <tr>\n",
       "      <th>2</th>\n",
       "      <td>2000-01-05</td>\n",
       "      <td>RELIANCE</td>\n",
       "      <td>EQ</td>\n",
       "      <td>271.85</td>\n",
       "      <td>256.65</td>\n",
       "      <td>287.90</td>\n",
       "      <td>256.65</td>\n",
       "      <td>286.75</td>\n",
       "      <td>282.50</td>\n",
       "      <td>274.79</td>\n",
       "      <td>26833684</td>\n",
       "      <td>7.373697e+14</td>\n",
       "      <td>NaN</td>\n",
       "      <td>NaN</td>\n",
       "      <td>NaN</td>\n",
       "    </tr>\n",
       "    <tr>\n",
       "      <th>3</th>\n",
       "      <td>2000-01-06</td>\n",
       "      <td>RELIANCE</td>\n",
       "      <td>EQ</td>\n",
       "      <td>282.50</td>\n",
       "      <td>289.00</td>\n",
       "      <td>300.70</td>\n",
       "      <td>289.00</td>\n",
       "      <td>293.50</td>\n",
       "      <td>294.35</td>\n",
       "      <td>295.45</td>\n",
       "      <td>15682286</td>\n",
       "      <td>4.633254e+14</td>\n",
       "      <td>NaN</td>\n",
       "      <td>NaN</td>\n",
       "      <td>NaN</td>\n",
       "    </tr>\n",
       "    <tr>\n",
       "      <th>4</th>\n",
       "      <td>2000-01-07</td>\n",
       "      <td>RELIANCE</td>\n",
       "      <td>EQ</td>\n",
       "      <td>294.35</td>\n",
       "      <td>295.00</td>\n",
       "      <td>317.90</td>\n",
       "      <td>293.00</td>\n",
       "      <td>314.50</td>\n",
       "      <td>314.55</td>\n",
       "      <td>308.91</td>\n",
       "      <td>19870977</td>\n",
       "      <td>6.138388e+14</td>\n",
       "      <td>NaN</td>\n",
       "      <td>NaN</td>\n",
       "      <td>NaN</td>\n",
       "    </tr>\n",
       "  </tbody>\n",
       "</table>\n",
       "</div>"
      ],
      "text/plain": [
       "         Date    Symbol Series  Prev Close    Open    High     Low    Last  \\\n",
       "0  2000-01-03  RELIANCE     EQ      233.05  237.50  251.70  237.50  251.70   \n",
       "1  2000-01-04  RELIANCE     EQ      251.70  258.40  271.85  251.30  271.85   \n",
       "2  2000-01-05  RELIANCE     EQ      271.85  256.65  287.90  256.65  286.75   \n",
       "3  2000-01-06  RELIANCE     EQ      282.50  289.00  300.70  289.00  293.50   \n",
       "4  2000-01-07  RELIANCE     EQ      294.35  295.00  317.90  293.00  314.50   \n",
       "\n",
       "    Close    VWAP    Volume      Turnover  Trades  Deliverable Volume  \\\n",
       "0  251.70  249.37   4456424  1.111319e+14     NaN                 NaN   \n",
       "1  271.85  263.52   9487878  2.500222e+14     NaN                 NaN   \n",
       "2  282.50  274.79  26833684  7.373697e+14     NaN                 NaN   \n",
       "3  294.35  295.45  15682286  4.633254e+14     NaN                 NaN   \n",
       "4  314.55  308.91  19870977  6.138388e+14     NaN                 NaN   \n",
       "\n",
       "   %Deliverble  \n",
       "0          NaN  \n",
       "1          NaN  \n",
       "2          NaN  \n",
       "3          NaN  \n",
       "4          NaN  "
      ]
     },
     "execution_count": 3,
     "metadata": {},
     "output_type": "execute_result"
    }
   ],
   "source": [
    "#displaying the stock prices\n",
    "df_stock.head()"
   ]
  },
  {
   "cell_type": "code",
   "execution_count": 4,
   "metadata": {},
   "outputs": [
    {
     "data": {
      "text/html": [
       "<div>\n",
       "<style scoped>\n",
       "    .dataframe tbody tr th:only-of-type {\n",
       "        vertical-align: middle;\n",
       "    }\n",
       "\n",
       "    .dataframe tbody tr th {\n",
       "        vertical-align: top;\n",
       "    }\n",
       "\n",
       "    .dataframe thead th {\n",
       "        text-align: right;\n",
       "    }\n",
       "</style>\n",
       "<table border=\"1\" class=\"dataframe\">\n",
       "  <thead>\n",
       "    <tr style=\"text-align: right;\">\n",
       "      <th></th>\n",
       "      <th>Date</th>\n",
       "      <th>Open</th>\n",
       "      <th>High</th>\n",
       "      <th>Low</th>\n",
       "      <th>Close</th>\n",
       "      <th>Volume</th>\n",
       "    </tr>\n",
       "  </thead>\n",
       "  <tbody>\n",
       "    <tr>\n",
       "      <th>251</th>\n",
       "      <td>2001-01-02</td>\n",
       "      <td>340.35</td>\n",
       "      <td>359.00</td>\n",
       "      <td>340.25</td>\n",
       "      <td>354.30</td>\n",
       "      <td>6623970</td>\n",
       "    </tr>\n",
       "    <tr>\n",
       "      <th>252</th>\n",
       "      <td>2001-01-03</td>\n",
       "      <td>355.00</td>\n",
       "      <td>361.70</td>\n",
       "      <td>353.00</td>\n",
       "      <td>360.05</td>\n",
       "      <td>8844088</td>\n",
       "    </tr>\n",
       "    <tr>\n",
       "      <th>253</th>\n",
       "      <td>2001-01-04</td>\n",
       "      <td>359.10</td>\n",
       "      <td>366.90</td>\n",
       "      <td>356.20</td>\n",
       "      <td>357.80</td>\n",
       "      <td>5982701</td>\n",
       "    </tr>\n",
       "    <tr>\n",
       "      <th>254</th>\n",
       "      <td>2001-01-05</td>\n",
       "      <td>356.50</td>\n",
       "      <td>366.80</td>\n",
       "      <td>356.50</td>\n",
       "      <td>364.30</td>\n",
       "      <td>7460148</td>\n",
       "    </tr>\n",
       "    <tr>\n",
       "      <th>255</th>\n",
       "      <td>2001-01-08</td>\n",
       "      <td>362.50</td>\n",
       "      <td>367.45</td>\n",
       "      <td>357.25</td>\n",
       "      <td>360.20</td>\n",
       "      <td>6842731</td>\n",
       "    </tr>\n",
       "  </tbody>\n",
       "</table>\n",
       "</div>"
      ],
      "text/plain": [
       "           Date    Open    High     Low   Close   Volume\n",
       "251  2001-01-02  340.35  359.00  340.25  354.30  6623970\n",
       "252  2001-01-03  355.00  361.70  353.00  360.05  8844088\n",
       "253  2001-01-04  359.10  366.90  356.20  357.80  5982701\n",
       "254  2001-01-05  356.50  366.80  356.50  364.30  7460148\n",
       "255  2001-01-08  362.50  367.45  357.25  360.20  6842731"
      ]
     },
     "execution_count": 4,
     "metadata": {},
     "output_type": "execute_result"
    }
   ],
   "source": [
    "#dropping unnecessary columns from stock dataframe\n",
    "df_stock=df_stock.drop(['Symbol', 'Series','Prev Close','Last','VWAP','Turnover','Trades','Deliverable Volume','%Deliverble'], axis=1)\n",
    "df_stock.drop(df_stock.index[0:251], inplace=True)\n",
    "df_stock.head()"
   ]
  },
  {
   "cell_type": "code",
   "execution_count": 5,
   "metadata": {
    "colab": {
     "base_uri": "https://localhost:8080/",
     "height": 202
    },
    "id": "BBKcsaNqh8df",
    "outputId": "84db3b50-f027-46c4-b178-d82ef83ce4f1"
   },
   "outputs": [
    {
     "data": {
      "text/html": [
       "<div>\n",
       "<style scoped>\n",
       "    .dataframe tbody tr th:only-of-type {\n",
       "        vertical-align: middle;\n",
       "    }\n",
       "\n",
       "    .dataframe tbody tr th {\n",
       "        vertical-align: top;\n",
       "    }\n",
       "\n",
       "    .dataframe thead th {\n",
       "        text-align: right;\n",
       "    }\n",
       "</style>\n",
       "<table border=\"1\" class=\"dataframe\">\n",
       "  <thead>\n",
       "    <tr style=\"text-align: right;\">\n",
       "      <th></th>\n",
       "      <th>publish_date</th>\n",
       "      <th>headline_category</th>\n",
       "      <th>headline_text</th>\n",
       "    </tr>\n",
       "  </thead>\n",
       "  <tbody>\n",
       "    <tr>\n",
       "      <th>0</th>\n",
       "      <td>20010102</td>\n",
       "      <td>unknown</td>\n",
       "      <td>Status quo will not be disturbed at Ayodhya; s...</td>\n",
       "    </tr>\n",
       "    <tr>\n",
       "      <th>1</th>\n",
       "      <td>20010102</td>\n",
       "      <td>unknown</td>\n",
       "      <td>Fissures in Hurriyat over Pak visit</td>\n",
       "    </tr>\n",
       "    <tr>\n",
       "      <th>2</th>\n",
       "      <td>20010102</td>\n",
       "      <td>unknown</td>\n",
       "      <td>America's unwanted heading for India?</td>\n",
       "    </tr>\n",
       "    <tr>\n",
       "      <th>3</th>\n",
       "      <td>20010102</td>\n",
       "      <td>unknown</td>\n",
       "      <td>For bigwigs; it is destination Goa</td>\n",
       "    </tr>\n",
       "    <tr>\n",
       "      <th>4</th>\n",
       "      <td>20010102</td>\n",
       "      <td>unknown</td>\n",
       "      <td>Extra buses to clear tourist traffic</td>\n",
       "    </tr>\n",
       "  </tbody>\n",
       "</table>\n",
       "</div>"
      ],
      "text/plain": [
       "   publish_date headline_category  \\\n",
       "0      20010102           unknown   \n",
       "1      20010102           unknown   \n",
       "2      20010102           unknown   \n",
       "3      20010102           unknown   \n",
       "4      20010102           unknown   \n",
       "\n",
       "                                       headline_text  \n",
       "0  Status quo will not be disturbed at Ayodhya; s...  \n",
       "1                Fissures in Hurriyat over Pak visit  \n",
       "2              America's unwanted heading for India?  \n",
       "3                 For bigwigs; it is destination Goa  \n",
       "4               Extra buses to clear tourist traffic  "
      ]
     },
     "execution_count": 5,
     "metadata": {},
     "output_type": "execute_result"
    }
   ],
   "source": [
    "#displaying the news headlines\n",
    "df_news.head(5)"
   ]
  },
  {
   "cell_type": "markdown",
   "metadata": {
    "id": "wefS5_yYI9oU"
   },
   "source": [
    "# **Feature engineering** "
   ]
  },
  {
   "cell_type": "code",
   "execution_count": 6,
   "metadata": {
    "colab": {
     "base_uri": "https://localhost:8080/"
    },
    "id": "j0EcOJvheuNi",
    "outputId": "bea5e2a5-5146-420d-915e-9fd2d3f2401d"
   },
   "outputs": [
    {
     "data": {
      "text/plain": [
       "((5055, 6), (3650970, 3))"
      ]
     },
     "execution_count": 6,
     "metadata": {},
     "output_type": "execute_result"
    }
   ],
   "source": [
    "#checking the dimensions of both the datasets\n",
    "df_stock.shape,df_news.shape"
   ]
  },
  {
   "cell_type": "code",
   "execution_count": 7,
   "metadata": {
    "colab": {
     "base_uri": "https://localhost:8080/",
     "height": 446
    },
    "id": "Gu4-gK4gdMZi",
    "outputId": "ac6219a4-0ed9-45ac-f73a-05dcde6f7f4c"
   },
   "outputs": [
    {
     "data": {
      "text/html": [
       "<div>\n",
       "<style scoped>\n",
       "    .dataframe tbody tr th:only-of-type {\n",
       "        vertical-align: middle;\n",
       "    }\n",
       "\n",
       "    .dataframe tbody tr th {\n",
       "        vertical-align: top;\n",
       "    }\n",
       "\n",
       "    .dataframe thead th {\n",
       "        text-align: right;\n",
       "    }\n",
       "</style>\n",
       "<table border=\"1\" class=\"dataframe\">\n",
       "  <thead>\n",
       "    <tr style=\"text-align: right;\">\n",
       "      <th></th>\n",
       "      <th>Open</th>\n",
       "      <th>High</th>\n",
       "      <th>Low</th>\n",
       "      <th>Close</th>\n",
       "      <th>Volume</th>\n",
       "    </tr>\n",
       "    <tr>\n",
       "      <th>Date</th>\n",
       "      <th></th>\n",
       "      <th></th>\n",
       "      <th></th>\n",
       "      <th></th>\n",
       "      <th></th>\n",
       "    </tr>\n",
       "  </thead>\n",
       "  <tbody>\n",
       "    <tr>\n",
       "      <th>2001-01-02</th>\n",
       "      <td>340.35</td>\n",
       "      <td>359.00</td>\n",
       "      <td>340.25</td>\n",
       "      <td>354.30</td>\n",
       "      <td>6623970</td>\n",
       "    </tr>\n",
       "    <tr>\n",
       "      <th>2001-01-03</th>\n",
       "      <td>355.00</td>\n",
       "      <td>361.70</td>\n",
       "      <td>353.00</td>\n",
       "      <td>360.05</td>\n",
       "      <td>8844088</td>\n",
       "    </tr>\n",
       "    <tr>\n",
       "      <th>2001-01-04</th>\n",
       "      <td>359.10</td>\n",
       "      <td>366.90</td>\n",
       "      <td>356.20</td>\n",
       "      <td>357.80</td>\n",
       "      <td>5982701</td>\n",
       "    </tr>\n",
       "    <tr>\n",
       "      <th>2001-01-05</th>\n",
       "      <td>356.50</td>\n",
       "      <td>366.80</td>\n",
       "      <td>356.50</td>\n",
       "      <td>364.30</td>\n",
       "      <td>7460148</td>\n",
       "    </tr>\n",
       "    <tr>\n",
       "      <th>2001-01-08</th>\n",
       "      <td>362.50</td>\n",
       "      <td>367.45</td>\n",
       "      <td>357.25</td>\n",
       "      <td>360.20</td>\n",
       "      <td>6842731</td>\n",
       "    </tr>\n",
       "    <tr>\n",
       "      <th>...</th>\n",
       "      <td>...</td>\n",
       "      <td>...</td>\n",
       "      <td>...</td>\n",
       "      <td>...</td>\n",
       "      <td>...</td>\n",
       "    </tr>\n",
       "    <tr>\n",
       "      <th>2021-04-26</th>\n",
       "      <td>1920.00</td>\n",
       "      <td>1962.00</td>\n",
       "      <td>1911.50</td>\n",
       "      <td>1937.85</td>\n",
       "      <td>9620785</td>\n",
       "    </tr>\n",
       "    <tr>\n",
       "      <th>2021-04-27</th>\n",
       "      <td>1940.00</td>\n",
       "      <td>1997.20</td>\n",
       "      <td>1938.25</td>\n",
       "      <td>1988.65</td>\n",
       "      <td>9226547</td>\n",
       "    </tr>\n",
       "    <tr>\n",
       "      <th>2021-04-28</th>\n",
       "      <td>1997.85</td>\n",
       "      <td>2008.00</td>\n",
       "      <td>1980.15</td>\n",
       "      <td>1997.30</td>\n",
       "      <td>7902002</td>\n",
       "    </tr>\n",
       "    <tr>\n",
       "      <th>2021-04-29</th>\n",
       "      <td>2022.90</td>\n",
       "      <td>2044.50</td>\n",
       "      <td>2007.30</td>\n",
       "      <td>2024.05</td>\n",
       "      <td>8035915</td>\n",
       "    </tr>\n",
       "    <tr>\n",
       "      <th>2021-04-30</th>\n",
       "      <td>2008.50</td>\n",
       "      <td>2036.00</td>\n",
       "      <td>1987.55</td>\n",
       "      <td>1994.50</td>\n",
       "      <td>9150974</td>\n",
       "    </tr>\n",
       "  </tbody>\n",
       "</table>\n",
       "<p>5055 rows × 5 columns</p>\n",
       "</div>"
      ],
      "text/plain": [
       "               Open     High      Low    Close   Volume\n",
       "Date                                                   \n",
       "2001-01-02   340.35   359.00   340.25   354.30  6623970\n",
       "2001-01-03   355.00   361.70   353.00   360.05  8844088\n",
       "2001-01-04   359.10   366.90   356.20   357.80  5982701\n",
       "2001-01-05   356.50   366.80   356.50   364.30  7460148\n",
       "2001-01-08   362.50   367.45   357.25   360.20  6842731\n",
       "...             ...      ...      ...      ...      ...\n",
       "2021-04-26  1920.00  1962.00  1911.50  1937.85  9620785\n",
       "2021-04-27  1940.00  1997.20  1938.25  1988.65  9226547\n",
       "2021-04-28  1997.85  2008.00  1980.15  1997.30  7902002\n",
       "2021-04-29  2022.90  2044.50  2007.30  2024.05  8035915\n",
       "2021-04-30  2008.50  2036.00  1987.55  1994.50  9150974\n",
       "\n",
       "[5055 rows x 5 columns]"
      ]
     },
     "execution_count": 7,
     "metadata": {},
     "output_type": "execute_result"
    }
   ],
   "source": [
    "# dropping the duplicates\n",
    "df_stock=df_stock.drop_duplicates()\n",
    "\n",
    "#converting the date column in type \"datetime\" column\n",
    "df_stock[\"Date\"]=pd.to_datetime(df_stock[\"Date\"]).dt.normalize()\n",
    "\n",
    "#filtering the important columns required\n",
    "df_stock=df_stock.filter([\"Date\",\"Open\",\"High\",\"Low\",\"Close\",\"Volume\"])\n",
    "\n",
    "#setting the \"Date\" as index\n",
    "df_stock.set_index(\"Date\",inplace=True)\n",
    "\n",
    "#Sorting the data based on the index\n",
    "df_stock=df_stock.sort_index(ascending=True,axis=0)\n",
    "\n",
    "#viewing the dataset\n",
    "df_stock"
   ]
  },
  {
   "cell_type": "markdown",
   "metadata": {
    "id": "LbI57Lz_RN_u"
   },
   "source": [
    "### **Stock news data**"
   ]
  },
  {
   "cell_type": "code",
   "execution_count": 8,
   "metadata": {
    "colab": {
     "base_uri": "https://localhost:8080/",
     "height": 446
    },
    "id": "xJD4Z7-CQlS3",
    "outputId": "3d3aebec-8fdc-48fc-f9b1-91daa3d85cde"
   },
   "outputs": [
    {
     "data": {
      "text/html": [
       "<div>\n",
       "<style scoped>\n",
       "    .dataframe tbody tr th:only-of-type {\n",
       "        vertical-align: middle;\n",
       "    }\n",
       "\n",
       "    .dataframe tbody tr th {\n",
       "        vertical-align: top;\n",
       "    }\n",
       "\n",
       "    .dataframe thead th {\n",
       "        text-align: right;\n",
       "    }\n",
       "</style>\n",
       "<table border=\"1\" class=\"dataframe\">\n",
       "  <thead>\n",
       "    <tr style=\"text-align: right;\">\n",
       "      <th></th>\n",
       "      <th>headline_text</th>\n",
       "    </tr>\n",
       "    <tr>\n",
       "      <th>publish_date</th>\n",
       "      <th></th>\n",
       "    </tr>\n",
       "  </thead>\n",
       "  <tbody>\n",
       "    <tr>\n",
       "      <th>2001-01-02</th>\n",
       "      <td>Status quo will not be disturbed at Ayodhya; s...</td>\n",
       "    </tr>\n",
       "    <tr>\n",
       "      <th>2001-01-03</th>\n",
       "      <td>Powerless north India gropes in the dark,Think...</td>\n",
       "    </tr>\n",
       "    <tr>\n",
       "      <th>2001-01-04</th>\n",
       "      <td>The string that pulled Stephen Hawking to Indi...</td>\n",
       "    </tr>\n",
       "    <tr>\n",
       "      <th>2001-01-05</th>\n",
       "      <td>Light combat craft takes India into club class...</td>\n",
       "    </tr>\n",
       "    <tr>\n",
       "      <th>2001-01-06</th>\n",
       "      <td>Light combat craft takes India into club class...</td>\n",
       "    </tr>\n",
       "    <tr>\n",
       "      <th>...</th>\n",
       "      <td>...</td>\n",
       "    </tr>\n",
       "    <tr>\n",
       "      <th>2022-03-27</th>\n",
       "      <td>Playing a dead man in Body God meant sitting i...</td>\n",
       "    </tr>\n",
       "    <tr>\n",
       "      <th>2022-03-28</th>\n",
       "      <td>As fashion becomes democratic; demand for styl...</td>\n",
       "    </tr>\n",
       "    <tr>\n",
       "      <th>2022-03-29</th>\n",
       "      <td>Bobby Deol: Like my dad; I hope to be working ...</td>\n",
       "    </tr>\n",
       "    <tr>\n",
       "      <th>2022-03-30</th>\n",
       "      <td>I will not give in to trends: Dossmode,The tim...</td>\n",
       "    </tr>\n",
       "    <tr>\n",
       "      <th>2022-03-31</th>\n",
       "      <td>Shashank goes back to coastal Karnataka and Mo...</td>\n",
       "    </tr>\n",
       "  </tbody>\n",
       "</table>\n",
       "<p>7717 rows × 1 columns</p>\n",
       "</div>"
      ],
      "text/plain": [
       "                                                  headline_text\n",
       "publish_date                                                   \n",
       "2001-01-02    Status quo will not be disturbed at Ayodhya; s...\n",
       "2001-01-03    Powerless north India gropes in the dark,Think...\n",
       "2001-01-04    The string that pulled Stephen Hawking to Indi...\n",
       "2001-01-05    Light combat craft takes India into club class...\n",
       "2001-01-06    Light combat craft takes India into club class...\n",
       "...                                                         ...\n",
       "2022-03-27    Playing a dead man in Body God meant sitting i...\n",
       "2022-03-28    As fashion becomes democratic; demand for styl...\n",
       "2022-03-29    Bobby Deol: Like my dad; I hope to be working ...\n",
       "2022-03-30    I will not give in to trends: Dossmode,The tim...\n",
       "2022-03-31    Shashank goes back to coastal Karnataka and Mo...\n",
       "\n",
       "[7717 rows x 1 columns]"
      ]
     },
     "execution_count": 8,
     "metadata": {},
     "output_type": "execute_result"
    }
   ],
   "source": [
    "# dropping the duplicates\n",
    "df_news=df_news.drop_duplicates()\n",
    "\n",
    "#converting the publish_date column in type \"datetime\" column\n",
    "df_news[\"publish_date\"]=df_news[\"publish_date\"].astype(str)\n",
    "df_news[\"publish_date\"]=df_news[\"publish_date\"].apply(lambda x: x[0:4]+'-'+x[4:6]+'-'+x[6:8])\n",
    "df_news[\"publish_date\"]=pd.to_datetime(df_news[\"publish_date\"]).dt.normalize()\n",
    "\n",
    "#fltering the important columns required\n",
    "df_news=df_news.filter([\"publish_date\",\"headline_text\"])\n",
    "\n",
    "#grouping the news according to \"Date\"\n",
    "df_news=df_news.groupby([\"publish_date\"])[\"headline_text\"].apply(lambda x: ','.join(x)).reset_index()\n",
    "\n",
    "#setting the \"publish_Date\" as index\n",
    "df_news.set_index(\"publish_date\",inplace=True)\n",
    "\n",
    "#Sorting the data based on the index\n",
    "df_news=df_news.sort_index(ascending=True,axis=0)\n",
    "\n",
    "#viewing the dataset\n",
    "df_news"
   ]
  },
  {
   "cell_type": "code",
   "execution_count": 9,
   "metadata": {
    "colab": {
     "base_uri": "https://localhost:8080/",
     "height": 415
    },
    "id": "LTgYIsmRd-gT",
    "outputId": "b6cc7655-8b01-480e-910b-da8d5c78aa6f"
   },
   "outputs": [
    {
     "data": {
      "text/html": [
       "<div>\n",
       "<style scoped>\n",
       "    .dataframe tbody tr th:only-of-type {\n",
       "        vertical-align: middle;\n",
       "    }\n",
       "\n",
       "    .dataframe tbody tr th {\n",
       "        vertical-align: top;\n",
       "    }\n",
       "\n",
       "    .dataframe thead th {\n",
       "        text-align: right;\n",
       "    }\n",
       "</style>\n",
       "<table border=\"1\" class=\"dataframe\">\n",
       "  <thead>\n",
       "    <tr style=\"text-align: right;\">\n",
       "      <th></th>\n",
       "      <th>headline_text</th>\n",
       "      <th>Open</th>\n",
       "      <th>High</th>\n",
       "      <th>Low</th>\n",
       "      <th>Close</th>\n",
       "      <th>Volume</th>\n",
       "    </tr>\n",
       "  </thead>\n",
       "  <tbody>\n",
       "    <tr>\n",
       "      <th>2001-05-22</th>\n",
       "      <td>She turned and fought,Re-negotiation best: Des...</td>\n",
       "      <td>377.85</td>\n",
       "      <td>381.50</td>\n",
       "      <td>375.70</td>\n",
       "      <td>377.45</td>\n",
       "      <td>2107258.0</td>\n",
       "    </tr>\n",
       "    <tr>\n",
       "      <th>2001-05-25</th>\n",
       "      <td>What Women Want</td>\n",
       "      <td>393.95</td>\n",
       "      <td>397.70</td>\n",
       "      <td>391.05</td>\n",
       "      <td>393.55</td>\n",
       "      <td>4265228.0</td>\n",
       "    </tr>\n",
       "    <tr>\n",
       "      <th>2001-05-28</th>\n",
       "      <td>Marriage and work does wonders to Ashutosh Ran...</td>\n",
       "      <td>394.00</td>\n",
       "      <td>401.90</td>\n",
       "      <td>394.00</td>\n",
       "      <td>398.80</td>\n",
       "      <td>2605823.0</td>\n",
       "    </tr>\n",
       "    <tr>\n",
       "      <th>2001-05-29</th>\n",
       "      <td>US visit won't be piece of cake for Krishna,Cy...</td>\n",
       "      <td>399.00</td>\n",
       "      <td>406.95</td>\n",
       "      <td>397.00</td>\n",
       "      <td>403.40</td>\n",
       "      <td>3057001.0</td>\n",
       "    </tr>\n",
       "    <tr>\n",
       "      <th>2001-05-30</th>\n",
       "      <td>Demolition drive: Beware of lake encroachment,...</td>\n",
       "      <td>406.00</td>\n",
       "      <td>406.70</td>\n",
       "      <td>389.95</td>\n",
       "      <td>391.55</td>\n",
       "      <td>3905928.0</td>\n",
       "    </tr>\n",
       "    <tr>\n",
       "      <th>...</th>\n",
       "      <td>...</td>\n",
       "      <td>...</td>\n",
       "      <td>...</td>\n",
       "      <td>...</td>\n",
       "      <td>...</td>\n",
       "      <td>...</td>\n",
       "    </tr>\n",
       "    <tr>\n",
       "      <th>2020-12-24</th>\n",
       "      <td>How to set the mood for sex during cold winter...</td>\n",
       "      <td>1947.00</td>\n",
       "      <td>1998.80</td>\n",
       "      <td>1945.90</td>\n",
       "      <td>1994.15</td>\n",
       "      <td>9588577.0</td>\n",
       "    </tr>\n",
       "    <tr>\n",
       "      <th>2020-12-28</th>\n",
       "      <td>Horoscope Today; 28 December 2020: Check astro...</td>\n",
       "      <td>2006.70</td>\n",
       "      <td>2018.00</td>\n",
       "      <td>1995.30</td>\n",
       "      <td>2003.30</td>\n",
       "      <td>7947719.0</td>\n",
       "    </tr>\n",
       "    <tr>\n",
       "      <th>2020-12-29</th>\n",
       "      <td>Man recovers charred remains of 'thief' from h...</td>\n",
       "      <td>2009.00</td>\n",
       "      <td>2012.30</td>\n",
       "      <td>1982.55</td>\n",
       "      <td>1990.05</td>\n",
       "      <td>8589407.0</td>\n",
       "    </tr>\n",
       "    <tr>\n",
       "      <th>2020-12-30</th>\n",
       "      <td>Numerology Readings 30 December 2020: Predicti...</td>\n",
       "      <td>1995.25</td>\n",
       "      <td>2007.20</td>\n",
       "      <td>1975.55</td>\n",
       "      <td>1995.50</td>\n",
       "      <td>10173132.0</td>\n",
       "    </tr>\n",
       "    <tr>\n",
       "      <th>2020-12-31</th>\n",
       "      <td>Horoscope Today; 31 December 2020: Check astro...</td>\n",
       "      <td>1993.50</td>\n",
       "      <td>2011.90</td>\n",
       "      <td>1978.60</td>\n",
       "      <td>1985.30</td>\n",
       "      <td>8667516.0</td>\n",
       "    </tr>\n",
       "  </tbody>\n",
       "</table>\n",
       "<p>4867 rows × 6 columns</p>\n",
       "</div>"
      ],
      "text/plain": [
       "                                                headline_text     Open  \\\n",
       "2001-05-22  She turned and fought,Re-negotiation best: Des...   377.85   \n",
       "2001-05-25                                    What Women Want   393.95   \n",
       "2001-05-28  Marriage and work does wonders to Ashutosh Ran...   394.00   \n",
       "2001-05-29  US visit won't be piece of cake for Krishna,Cy...   399.00   \n",
       "2001-05-30  Demolition drive: Beware of lake encroachment,...   406.00   \n",
       "...                                                       ...      ...   \n",
       "2020-12-24  How to set the mood for sex during cold winter...  1947.00   \n",
       "2020-12-28  Horoscope Today; 28 December 2020: Check astro...  2006.70   \n",
       "2020-12-29  Man recovers charred remains of 'thief' from h...  2009.00   \n",
       "2020-12-30  Numerology Readings 30 December 2020: Predicti...  1995.25   \n",
       "2020-12-31  Horoscope Today; 31 December 2020: Check astro...  1993.50   \n",
       "\n",
       "               High      Low    Close      Volume  \n",
       "2001-05-22   381.50   375.70   377.45   2107258.0  \n",
       "2001-05-25   397.70   391.05   393.55   4265228.0  \n",
       "2001-05-28   401.90   394.00   398.80   2605823.0  \n",
       "2001-05-29   406.95   397.00   403.40   3057001.0  \n",
       "2001-05-30   406.70   389.95   391.55   3905928.0  \n",
       "...             ...      ...      ...         ...  \n",
       "2020-12-24  1998.80  1945.90  1994.15   9588577.0  \n",
       "2020-12-28  2018.00  1995.30  2003.30   7947719.0  \n",
       "2020-12-29  2012.30  1982.55  1990.05   8589407.0  \n",
       "2020-12-30  2007.20  1975.55  1995.50  10173132.0  \n",
       "2020-12-31  2011.90  1978.60  1985.30   8667516.0  \n",
       "\n",
       "[4867 rows x 6 columns]"
      ]
     },
     "execution_count": 9,
     "metadata": {},
     "output_type": "execute_result"
    }
   ],
   "source": [
    "#concatinating\n",
    "df=pd.concat([df_news,df_stock],axis=1)\n",
    "\n",
    "#slicing from 2001-05-22 to 2020-12-31\n",
    "df=df[pd.Timestamp('2001-05-22'):pd.Timestamp('2020-12-31')]\n",
    "\n",
    "#dropping null values if anly\n",
    "df.dropna(axis=0,inplace=True)\n",
    "\n",
    "#viewing the dataset\n",
    "df"
   ]
  },
  {
   "cell_type": "markdown",
   "metadata": {
    "id": "gpBQlManRlYH"
   },
   "source": [
    "**Calculating sentiment scores**"
   ]
  },
  {
   "cell_type": "code",
   "execution_count": 10,
   "metadata": {
    "colab": {
     "base_uri": "https://localhost:8080/",
     "height": 599
    },
    "id": "YNHs5xRaQlbS",
    "outputId": "08631ae2-63b4-4de1-8e19-939de7c8cf21"
   },
   "outputs": [
    {
     "data": {
      "text/html": [
       "<div>\n",
       "<style scoped>\n",
       "    .dataframe tbody tr th:only-of-type {\n",
       "        vertical-align: middle;\n",
       "    }\n",
       "\n",
       "    .dataframe tbody tr th {\n",
       "        vertical-align: top;\n",
       "    }\n",
       "\n",
       "    .dataframe thead th {\n",
       "        text-align: right;\n",
       "    }\n",
       "</style>\n",
       "<table border=\"1\" class=\"dataframe\">\n",
       "  <thead>\n",
       "    <tr style=\"text-align: right;\">\n",
       "      <th></th>\n",
       "      <th>headline_text</th>\n",
       "      <th>Open</th>\n",
       "      <th>High</th>\n",
       "      <th>Low</th>\n",
       "      <th>Close</th>\n",
       "      <th>Volume</th>\n",
       "      <th>compound</th>\n",
       "      <th>negative</th>\n",
       "      <th>neutral</th>\n",
       "      <th>positive</th>\n",
       "    </tr>\n",
       "  </thead>\n",
       "  <tbody>\n",
       "    <tr>\n",
       "      <th>2001-05-22</th>\n",
       "      <td>She turned and fought,Re-negotiation best: Des...</td>\n",
       "      <td>377.85</td>\n",
       "      <td>381.50</td>\n",
       "      <td>375.70</td>\n",
       "      <td>377.45</td>\n",
       "      <td>2107258.0</td>\n",
       "      <td></td>\n",
       "      <td></td>\n",
       "      <td></td>\n",
       "      <td></td>\n",
       "    </tr>\n",
       "    <tr>\n",
       "      <th>2001-05-25</th>\n",
       "      <td>What Women Want</td>\n",
       "      <td>393.95</td>\n",
       "      <td>397.70</td>\n",
       "      <td>391.05</td>\n",
       "      <td>393.55</td>\n",
       "      <td>4265228.0</td>\n",
       "      <td></td>\n",
       "      <td></td>\n",
       "      <td></td>\n",
       "      <td></td>\n",
       "    </tr>\n",
       "    <tr>\n",
       "      <th>2001-05-28</th>\n",
       "      <td>Marriage and work does wonders to Ashutosh Ran...</td>\n",
       "      <td>394.00</td>\n",
       "      <td>401.90</td>\n",
       "      <td>394.00</td>\n",
       "      <td>398.80</td>\n",
       "      <td>2605823.0</td>\n",
       "      <td></td>\n",
       "      <td></td>\n",
       "      <td></td>\n",
       "      <td></td>\n",
       "    </tr>\n",
       "    <tr>\n",
       "      <th>2001-05-29</th>\n",
       "      <td>US visit won't be piece of cake for Krishna,Cy...</td>\n",
       "      <td>399.00</td>\n",
       "      <td>406.95</td>\n",
       "      <td>397.00</td>\n",
       "      <td>403.40</td>\n",
       "      <td>3057001.0</td>\n",
       "      <td></td>\n",
       "      <td></td>\n",
       "      <td></td>\n",
       "      <td></td>\n",
       "    </tr>\n",
       "    <tr>\n",
       "      <th>2001-05-30</th>\n",
       "      <td>Demolition drive: Beware of lake encroachment,...</td>\n",
       "      <td>406.00</td>\n",
       "      <td>406.70</td>\n",
       "      <td>389.95</td>\n",
       "      <td>391.55</td>\n",
       "      <td>3905928.0</td>\n",
       "      <td></td>\n",
       "      <td></td>\n",
       "      <td></td>\n",
       "      <td></td>\n",
       "    </tr>\n",
       "    <tr>\n",
       "      <th>...</th>\n",
       "      <td>...</td>\n",
       "      <td>...</td>\n",
       "      <td>...</td>\n",
       "      <td>...</td>\n",
       "      <td>...</td>\n",
       "      <td>...</td>\n",
       "      <td>...</td>\n",
       "      <td>...</td>\n",
       "      <td>...</td>\n",
       "      <td>...</td>\n",
       "    </tr>\n",
       "    <tr>\n",
       "      <th>2020-12-24</th>\n",
       "      <td>How to set the mood for sex during cold winter...</td>\n",
       "      <td>1947.00</td>\n",
       "      <td>1998.80</td>\n",
       "      <td>1945.90</td>\n",
       "      <td>1994.15</td>\n",
       "      <td>9588577.0</td>\n",
       "      <td></td>\n",
       "      <td></td>\n",
       "      <td></td>\n",
       "      <td></td>\n",
       "    </tr>\n",
       "    <tr>\n",
       "      <th>2020-12-28</th>\n",
       "      <td>Horoscope Today; 28 December 2020: Check astro...</td>\n",
       "      <td>2006.70</td>\n",
       "      <td>2018.00</td>\n",
       "      <td>1995.30</td>\n",
       "      <td>2003.30</td>\n",
       "      <td>7947719.0</td>\n",
       "      <td></td>\n",
       "      <td></td>\n",
       "      <td></td>\n",
       "      <td></td>\n",
       "    </tr>\n",
       "    <tr>\n",
       "      <th>2020-12-29</th>\n",
       "      <td>Man recovers charred remains of 'thief' from h...</td>\n",
       "      <td>2009.00</td>\n",
       "      <td>2012.30</td>\n",
       "      <td>1982.55</td>\n",
       "      <td>1990.05</td>\n",
       "      <td>8589407.0</td>\n",
       "      <td></td>\n",
       "      <td></td>\n",
       "      <td></td>\n",
       "      <td></td>\n",
       "    </tr>\n",
       "    <tr>\n",
       "      <th>2020-12-30</th>\n",
       "      <td>Numerology Readings 30 December 2020: Predicti...</td>\n",
       "      <td>1995.25</td>\n",
       "      <td>2007.20</td>\n",
       "      <td>1975.55</td>\n",
       "      <td>1995.50</td>\n",
       "      <td>10173132.0</td>\n",
       "      <td></td>\n",
       "      <td></td>\n",
       "      <td></td>\n",
       "      <td></td>\n",
       "    </tr>\n",
       "    <tr>\n",
       "      <th>2020-12-31</th>\n",
       "      <td>Horoscope Today; 31 December 2020: Check astro...</td>\n",
       "      <td>1993.50</td>\n",
       "      <td>2011.90</td>\n",
       "      <td>1978.60</td>\n",
       "      <td>1985.30</td>\n",
       "      <td>8667516.0</td>\n",
       "      <td></td>\n",
       "      <td></td>\n",
       "      <td></td>\n",
       "      <td></td>\n",
       "    </tr>\n",
       "  </tbody>\n",
       "</table>\n",
       "<p>4867 rows × 10 columns</p>\n",
       "</div>"
      ],
      "text/plain": [
       "                                                headline_text     Open  \\\n",
       "2001-05-22  She turned and fought,Re-negotiation best: Des...   377.85   \n",
       "2001-05-25                                    What Women Want   393.95   \n",
       "2001-05-28  Marriage and work does wonders to Ashutosh Ran...   394.00   \n",
       "2001-05-29  US visit won't be piece of cake for Krishna,Cy...   399.00   \n",
       "2001-05-30  Demolition drive: Beware of lake encroachment,...   406.00   \n",
       "...                                                       ...      ...   \n",
       "2020-12-24  How to set the mood for sex during cold winter...  1947.00   \n",
       "2020-12-28  Horoscope Today; 28 December 2020: Check astro...  2006.70   \n",
       "2020-12-29  Man recovers charred remains of 'thief' from h...  2009.00   \n",
       "2020-12-30  Numerology Readings 30 December 2020: Predicti...  1995.25   \n",
       "2020-12-31  Horoscope Today; 31 December 2020: Check astro...  1993.50   \n",
       "\n",
       "               High      Low    Close      Volume compound negative neutral  \\\n",
       "2001-05-22   381.50   375.70   377.45   2107258.0                             \n",
       "2001-05-25   397.70   391.05   393.55   4265228.0                             \n",
       "2001-05-28   401.90   394.00   398.80   2605823.0                             \n",
       "2001-05-29   406.95   397.00   403.40   3057001.0                             \n",
       "2001-05-30   406.70   389.95   391.55   3905928.0                             \n",
       "...             ...      ...      ...         ...      ...      ...     ...   \n",
       "2020-12-24  1998.80  1945.90  1994.15   9588577.0                             \n",
       "2020-12-28  2018.00  1995.30  2003.30   7947719.0                             \n",
       "2020-12-29  2012.30  1982.55  1990.05   8589407.0                             \n",
       "2020-12-30  2007.20  1975.55  1995.50  10173132.0                             \n",
       "2020-12-31  2011.90  1978.60  1985.30   8667516.0                             \n",
       "\n",
       "           positive  \n",
       "2001-05-22           \n",
       "2001-05-25           \n",
       "2001-05-28           \n",
       "2001-05-29           \n",
       "2001-05-30           \n",
       "...             ...  \n",
       "2020-12-24           \n",
       "2020-12-28           \n",
       "2020-12-29           \n",
       "2020-12-30           \n",
       "2020-12-31           \n",
       "\n",
       "[4867 rows x 10 columns]"
      ]
     },
     "execution_count": 10,
     "metadata": {},
     "output_type": "execute_result"
    }
   ],
   "source": [
    "#adding the sentiment columns\n",
    "df[\"compound\"]=\"\"\n",
    "df[\"negative\"]=\"\"\n",
    "df[\"neutral\"]=\"\"\n",
    "df[\"positive\"]=\"\"\n",
    "df[\"positive\"]=\"\"\n",
    "df"
   ]
  },
  {
   "cell_type": "code",
   "execution_count": 11,
   "metadata": {
    "colab": {
     "base_uri": "https://localhost:8080/"
    },
    "id": "_JK9oiSYQldZ",
    "outputId": "9980ce3e-af24-4ba7-bf0b-2b7910a3d2a1"
   },
   "outputs": [
    {
     "name": "stderr",
     "output_type": "stream",
     "text": [
      "[nltk_data] Error loading vader_lexicon: <urlopen error [Errno 11001]\n",
      "[nltk_data]     getaddrinfo failed>\n",
      "100%|██████████████████████████████████████████████████████████████████████████████| 4867/4867 [12:00<00:00,  6.76it/s]\n",
      "100%|██████████████████████████████████████████████████████████████████████████████| 4867/4867 [11:58<00:00,  6.77it/s]\n",
      "100%|██████████████████████████████████████████████████████████████████████████████| 4867/4867 [11:48<00:00,  6.87it/s]\n",
      "100%|██████████████████████████████████████████████████████████████████████████████| 4867/4867 [11:43<00:00,  6.92it/s]\n"
     ]
    }
   ],
   "source": [
    "#calling the required libraries\n",
    "import nltk\n",
    "nltk.download('vader_lexicon')\n",
    "from nltk.sentiment.vader import SentimentIntensityAnalyzer\n",
    "import unicodedata\n",
    "from tqdm import tqdm\n",
    "from tqdm.gui import tqdm as tqdm_gui\n",
    "#keeping track of the progress \n",
    "tqdm.pandas()\n",
    "#instantiating the sentiment analyzer\n",
    "sid=SentimentIntensityAnalyzer()\n",
    "#calculating the sentiment scores\n",
    "df[\"compound\"]=df[\"headline_text\"].progress_apply(lambda x: sid.polarity_scores(x)[\"compound\"])\n",
    "df[\"negative\"]=df[\"headline_text\"].progress_apply(lambda x: sid.polarity_scores(x)[\"neg\"])\n",
    "df[\"neutral\"]=df[\"headline_text\"].progress_apply(lambda x: sid.polarity_scores(x)[\"neu\"])\n",
    "df[\"positive\"]=df[\"headline_text\"].progress_apply(lambda x: sid.polarity_scores(x)[\"pos\"])"
   ]
  },
  {
   "cell_type": "code",
   "execution_count": 12,
   "metadata": {
    "colab": {
     "base_uri": "https://localhost:8080/",
     "height": 599
    },
    "id": "BSSjK2US1JBn",
    "outputId": "fc692491-1b3f-4924-cf07-c28643690096"
   },
   "outputs": [
    {
     "data": {
      "text/html": [
       "<div>\n",
       "<style scoped>\n",
       "    .dataframe tbody tr th:only-of-type {\n",
       "        vertical-align: middle;\n",
       "    }\n",
       "\n",
       "    .dataframe tbody tr th {\n",
       "        vertical-align: top;\n",
       "    }\n",
       "\n",
       "    .dataframe thead th {\n",
       "        text-align: right;\n",
       "    }\n",
       "</style>\n",
       "<table border=\"1\" class=\"dataframe\">\n",
       "  <thead>\n",
       "    <tr style=\"text-align: right;\">\n",
       "      <th></th>\n",
       "      <th>headline_text</th>\n",
       "      <th>Open</th>\n",
       "      <th>High</th>\n",
       "      <th>Low</th>\n",
       "      <th>Close</th>\n",
       "      <th>Volume</th>\n",
       "      <th>compound</th>\n",
       "      <th>negative</th>\n",
       "      <th>neutral</th>\n",
       "      <th>positive</th>\n",
       "    </tr>\n",
       "  </thead>\n",
       "  <tbody>\n",
       "    <tr>\n",
       "      <th>2001-05-22</th>\n",
       "      <td>She turned and fought,Re-negotiation best: Des...</td>\n",
       "      <td>377.85</td>\n",
       "      <td>381.50</td>\n",
       "      <td>375.70</td>\n",
       "      <td>377.45</td>\n",
       "      <td>2107258.0</td>\n",
       "      <td>-0.9907</td>\n",
       "      <td>0.134</td>\n",
       "      <td>0.800</td>\n",
       "      <td>0.066</td>\n",
       "    </tr>\n",
       "    <tr>\n",
       "      <th>2001-05-25</th>\n",
       "      <td>What Women Want</td>\n",
       "      <td>393.95</td>\n",
       "      <td>397.70</td>\n",
       "      <td>391.05</td>\n",
       "      <td>393.55</td>\n",
       "      <td>4265228.0</td>\n",
       "      <td>0.0772</td>\n",
       "      <td>0.000</td>\n",
       "      <td>0.606</td>\n",
       "      <td>0.394</td>\n",
       "    </tr>\n",
       "    <tr>\n",
       "      <th>2001-05-28</th>\n",
       "      <td>Marriage and work does wonders to Ashutosh Ran...</td>\n",
       "      <td>394.00</td>\n",
       "      <td>401.90</td>\n",
       "      <td>394.00</td>\n",
       "      <td>398.80</td>\n",
       "      <td>2605823.0</td>\n",
       "      <td>-0.9979</td>\n",
       "      <td>0.135</td>\n",
       "      <td>0.807</td>\n",
       "      <td>0.059</td>\n",
       "    </tr>\n",
       "    <tr>\n",
       "      <th>2001-05-29</th>\n",
       "      <td>US visit won't be piece of cake for Krishna,Cy...</td>\n",
       "      <td>399.00</td>\n",
       "      <td>406.95</td>\n",
       "      <td>397.00</td>\n",
       "      <td>403.40</td>\n",
       "      <td>3057001.0</td>\n",
       "      <td>-0.9584</td>\n",
       "      <td>0.081</td>\n",
       "      <td>0.847</td>\n",
       "      <td>0.072</td>\n",
       "    </tr>\n",
       "    <tr>\n",
       "      <th>2001-05-30</th>\n",
       "      <td>Demolition drive: Beware of lake encroachment,...</td>\n",
       "      <td>406.00</td>\n",
       "      <td>406.70</td>\n",
       "      <td>389.95</td>\n",
       "      <td>391.55</td>\n",
       "      <td>3905928.0</td>\n",
       "      <td>-0.5713</td>\n",
       "      <td>0.073</td>\n",
       "      <td>0.850</td>\n",
       "      <td>0.077</td>\n",
       "    </tr>\n",
       "    <tr>\n",
       "      <th>...</th>\n",
       "      <td>...</td>\n",
       "      <td>...</td>\n",
       "      <td>...</td>\n",
       "      <td>...</td>\n",
       "      <td>...</td>\n",
       "      <td>...</td>\n",
       "      <td>...</td>\n",
       "      <td>...</td>\n",
       "      <td>...</td>\n",
       "      <td>...</td>\n",
       "    </tr>\n",
       "    <tr>\n",
       "      <th>2020-12-24</th>\n",
       "      <td>How to set the mood for sex during cold winter...</td>\n",
       "      <td>1947.00</td>\n",
       "      <td>1998.80</td>\n",
       "      <td>1945.90</td>\n",
       "      <td>1994.15</td>\n",
       "      <td>9588577.0</td>\n",
       "      <td>-0.9971</td>\n",
       "      <td>0.082</td>\n",
       "      <td>0.854</td>\n",
       "      <td>0.064</td>\n",
       "    </tr>\n",
       "    <tr>\n",
       "      <th>2020-12-28</th>\n",
       "      <td>Horoscope Today; 28 December 2020: Check astro...</td>\n",
       "      <td>2006.70</td>\n",
       "      <td>2018.00</td>\n",
       "      <td>1995.30</td>\n",
       "      <td>2003.30</td>\n",
       "      <td>7947719.0</td>\n",
       "      <td>-0.9997</td>\n",
       "      <td>0.126</td>\n",
       "      <td>0.789</td>\n",
       "      <td>0.085</td>\n",
       "    </tr>\n",
       "    <tr>\n",
       "      <th>2020-12-29</th>\n",
       "      <td>Man recovers charred remains of 'thief' from h...</td>\n",
       "      <td>2009.00</td>\n",
       "      <td>2012.30</td>\n",
       "      <td>1982.55</td>\n",
       "      <td>1990.05</td>\n",
       "      <td>8589407.0</td>\n",
       "      <td>-0.9998</td>\n",
       "      <td>0.136</td>\n",
       "      <td>0.774</td>\n",
       "      <td>0.090</td>\n",
       "    </tr>\n",
       "    <tr>\n",
       "      <th>2020-12-30</th>\n",
       "      <td>Numerology Readings 30 December 2020: Predicti...</td>\n",
       "      <td>1995.25</td>\n",
       "      <td>2007.20</td>\n",
       "      <td>1975.55</td>\n",
       "      <td>1995.50</td>\n",
       "      <td>10173132.0</td>\n",
       "      <td>-0.9998</td>\n",
       "      <td>0.126</td>\n",
       "      <td>0.797</td>\n",
       "      <td>0.077</td>\n",
       "    </tr>\n",
       "    <tr>\n",
       "      <th>2020-12-31</th>\n",
       "      <td>Horoscope Today; 31 December 2020: Check astro...</td>\n",
       "      <td>1993.50</td>\n",
       "      <td>2011.90</td>\n",
       "      <td>1978.60</td>\n",
       "      <td>1985.30</td>\n",
       "      <td>8667516.0</td>\n",
       "      <td>-0.9996</td>\n",
       "      <td>0.124</td>\n",
       "      <td>0.783</td>\n",
       "      <td>0.094</td>\n",
       "    </tr>\n",
       "  </tbody>\n",
       "</table>\n",
       "<p>4867 rows × 10 columns</p>\n",
       "</div>"
      ],
      "text/plain": [
       "                                                headline_text     Open  \\\n",
       "2001-05-22  She turned and fought,Re-negotiation best: Des...   377.85   \n",
       "2001-05-25                                    What Women Want   393.95   \n",
       "2001-05-28  Marriage and work does wonders to Ashutosh Ran...   394.00   \n",
       "2001-05-29  US visit won't be piece of cake for Krishna,Cy...   399.00   \n",
       "2001-05-30  Demolition drive: Beware of lake encroachment,...   406.00   \n",
       "...                                                       ...      ...   \n",
       "2020-12-24  How to set the mood for sex during cold winter...  1947.00   \n",
       "2020-12-28  Horoscope Today; 28 December 2020: Check astro...  2006.70   \n",
       "2020-12-29  Man recovers charred remains of 'thief' from h...  2009.00   \n",
       "2020-12-30  Numerology Readings 30 December 2020: Predicti...  1995.25   \n",
       "2020-12-31  Horoscope Today; 31 December 2020: Check astro...  1993.50   \n",
       "\n",
       "               High      Low    Close      Volume  compound  negative  \\\n",
       "2001-05-22   381.50   375.70   377.45   2107258.0   -0.9907     0.134   \n",
       "2001-05-25   397.70   391.05   393.55   4265228.0    0.0772     0.000   \n",
       "2001-05-28   401.90   394.00   398.80   2605823.0   -0.9979     0.135   \n",
       "2001-05-29   406.95   397.00   403.40   3057001.0   -0.9584     0.081   \n",
       "2001-05-30   406.70   389.95   391.55   3905928.0   -0.5713     0.073   \n",
       "...             ...      ...      ...         ...       ...       ...   \n",
       "2020-12-24  1998.80  1945.90  1994.15   9588577.0   -0.9971     0.082   \n",
       "2020-12-28  2018.00  1995.30  2003.30   7947719.0   -0.9997     0.126   \n",
       "2020-12-29  2012.30  1982.55  1990.05   8589407.0   -0.9998     0.136   \n",
       "2020-12-30  2007.20  1975.55  1995.50  10173132.0   -0.9998     0.126   \n",
       "2020-12-31  2011.90  1978.60  1985.30   8667516.0   -0.9996     0.124   \n",
       "\n",
       "            neutral  positive  \n",
       "2001-05-22    0.800     0.066  \n",
       "2001-05-25    0.606     0.394  \n",
       "2001-05-28    0.807     0.059  \n",
       "2001-05-29    0.847     0.072  \n",
       "2001-05-30    0.850     0.077  \n",
       "...             ...       ...  \n",
       "2020-12-24    0.854     0.064  \n",
       "2020-12-28    0.789     0.085  \n",
       "2020-12-29    0.774     0.090  \n",
       "2020-12-30    0.797     0.077  \n",
       "2020-12-31    0.783     0.094  \n",
       "\n",
       "[4867 rows x 10 columns]"
      ]
     },
     "execution_count": 12,
     "metadata": {},
     "output_type": "execute_result"
    }
   ],
   "source": [
    "#viewing the dataset\n",
    "df"
   ]
  },
  {
   "cell_type": "code",
   "execution_count": null,
   "metadata": {
    "id": "TDly1yPKqAty"
   },
   "outputs": [],
   "source": []
  },
  {
   "cell_type": "markdown",
   "metadata": {
    "id": "CgoUDGUvlwCd"
   },
   "source": [
    "**Writing the finalized data to a disk**"
   ]
  },
  {
   "cell_type": "code",
   "execution_count": 13,
   "metadata": {
    "colab": {
     "base_uri": "https://localhost:8080/",
     "height": 415
    },
    "id": "LmAm7Cmllkbp",
    "outputId": "8fc45be7-e8d1-41b9-8528-476fd86f307c"
   },
   "outputs": [
    {
     "data": {
      "text/html": [
       "<div>\n",
       "<style scoped>\n",
       "    .dataframe tbody tr th:only-of-type {\n",
       "        vertical-align: middle;\n",
       "    }\n",
       "\n",
       "    .dataframe tbody tr th {\n",
       "        vertical-align: top;\n",
       "    }\n",
       "\n",
       "    .dataframe thead th {\n",
       "        text-align: right;\n",
       "    }\n",
       "</style>\n",
       "<table border=\"1\" class=\"dataframe\">\n",
       "  <thead>\n",
       "    <tr style=\"text-align: right;\">\n",
       "      <th></th>\n",
       "      <th>Open</th>\n",
       "      <th>High</th>\n",
       "      <th>Low</th>\n",
       "      <th>Close</th>\n",
       "      <th>Volume</th>\n",
       "      <th>compound</th>\n",
       "      <th>negative</th>\n",
       "      <th>neutral</th>\n",
       "      <th>positive</th>\n",
       "    </tr>\n",
       "  </thead>\n",
       "  <tbody>\n",
       "    <tr>\n",
       "      <th>2001-05-22</th>\n",
       "      <td>377.85</td>\n",
       "      <td>381.50</td>\n",
       "      <td>375.70</td>\n",
       "      <td>377.45</td>\n",
       "      <td>2107258.0</td>\n",
       "      <td>-0.9907</td>\n",
       "      <td>0.134</td>\n",
       "      <td>0.800</td>\n",
       "      <td>0.066</td>\n",
       "    </tr>\n",
       "    <tr>\n",
       "      <th>2001-05-25</th>\n",
       "      <td>393.95</td>\n",
       "      <td>397.70</td>\n",
       "      <td>391.05</td>\n",
       "      <td>393.55</td>\n",
       "      <td>4265228.0</td>\n",
       "      <td>0.0772</td>\n",
       "      <td>0.000</td>\n",
       "      <td>0.606</td>\n",
       "      <td>0.394</td>\n",
       "    </tr>\n",
       "    <tr>\n",
       "      <th>2001-05-28</th>\n",
       "      <td>394.00</td>\n",
       "      <td>401.90</td>\n",
       "      <td>394.00</td>\n",
       "      <td>398.80</td>\n",
       "      <td>2605823.0</td>\n",
       "      <td>-0.9979</td>\n",
       "      <td>0.135</td>\n",
       "      <td>0.807</td>\n",
       "      <td>0.059</td>\n",
       "    </tr>\n",
       "    <tr>\n",
       "      <th>2001-05-29</th>\n",
       "      <td>399.00</td>\n",
       "      <td>406.95</td>\n",
       "      <td>397.00</td>\n",
       "      <td>403.40</td>\n",
       "      <td>3057001.0</td>\n",
       "      <td>-0.9584</td>\n",
       "      <td>0.081</td>\n",
       "      <td>0.847</td>\n",
       "      <td>0.072</td>\n",
       "    </tr>\n",
       "    <tr>\n",
       "      <th>2001-05-30</th>\n",
       "      <td>406.00</td>\n",
       "      <td>406.70</td>\n",
       "      <td>389.95</td>\n",
       "      <td>391.55</td>\n",
       "      <td>3905928.0</td>\n",
       "      <td>-0.5713</td>\n",
       "      <td>0.073</td>\n",
       "      <td>0.850</td>\n",
       "      <td>0.077</td>\n",
       "    </tr>\n",
       "    <tr>\n",
       "      <th>...</th>\n",
       "      <td>...</td>\n",
       "      <td>...</td>\n",
       "      <td>...</td>\n",
       "      <td>...</td>\n",
       "      <td>...</td>\n",
       "      <td>...</td>\n",
       "      <td>...</td>\n",
       "      <td>...</td>\n",
       "      <td>...</td>\n",
       "    </tr>\n",
       "    <tr>\n",
       "      <th>2020-12-24</th>\n",
       "      <td>1947.00</td>\n",
       "      <td>1998.80</td>\n",
       "      <td>1945.90</td>\n",
       "      <td>1994.15</td>\n",
       "      <td>9588577.0</td>\n",
       "      <td>-0.9971</td>\n",
       "      <td>0.082</td>\n",
       "      <td>0.854</td>\n",
       "      <td>0.064</td>\n",
       "    </tr>\n",
       "    <tr>\n",
       "      <th>2020-12-28</th>\n",
       "      <td>2006.70</td>\n",
       "      <td>2018.00</td>\n",
       "      <td>1995.30</td>\n",
       "      <td>2003.30</td>\n",
       "      <td>7947719.0</td>\n",
       "      <td>-0.9997</td>\n",
       "      <td>0.126</td>\n",
       "      <td>0.789</td>\n",
       "      <td>0.085</td>\n",
       "    </tr>\n",
       "    <tr>\n",
       "      <th>2020-12-29</th>\n",
       "      <td>2009.00</td>\n",
       "      <td>2012.30</td>\n",
       "      <td>1982.55</td>\n",
       "      <td>1990.05</td>\n",
       "      <td>8589407.0</td>\n",
       "      <td>-0.9998</td>\n",
       "      <td>0.136</td>\n",
       "      <td>0.774</td>\n",
       "      <td>0.090</td>\n",
       "    </tr>\n",
       "    <tr>\n",
       "      <th>2020-12-30</th>\n",
       "      <td>1995.25</td>\n",
       "      <td>2007.20</td>\n",
       "      <td>1975.55</td>\n",
       "      <td>1995.50</td>\n",
       "      <td>10173132.0</td>\n",
       "      <td>-0.9998</td>\n",
       "      <td>0.126</td>\n",
       "      <td>0.797</td>\n",
       "      <td>0.077</td>\n",
       "    </tr>\n",
       "    <tr>\n",
       "      <th>2020-12-31</th>\n",
       "      <td>1993.50</td>\n",
       "      <td>2011.90</td>\n",
       "      <td>1978.60</td>\n",
       "      <td>1985.30</td>\n",
       "      <td>8667516.0</td>\n",
       "      <td>-0.9996</td>\n",
       "      <td>0.124</td>\n",
       "      <td>0.783</td>\n",
       "      <td>0.094</td>\n",
       "    </tr>\n",
       "  </tbody>\n",
       "</table>\n",
       "<p>4867 rows × 9 columns</p>\n",
       "</div>"
      ],
      "text/plain": [
       "               Open     High      Low    Close      Volume  compound  \\\n",
       "2001-05-22   377.85   381.50   375.70   377.45   2107258.0   -0.9907   \n",
       "2001-05-25   393.95   397.70   391.05   393.55   4265228.0    0.0772   \n",
       "2001-05-28   394.00   401.90   394.00   398.80   2605823.0   -0.9979   \n",
       "2001-05-29   399.00   406.95   397.00   403.40   3057001.0   -0.9584   \n",
       "2001-05-30   406.00   406.70   389.95   391.55   3905928.0   -0.5713   \n",
       "...             ...      ...      ...      ...         ...       ...   \n",
       "2020-12-24  1947.00  1998.80  1945.90  1994.15   9588577.0   -0.9971   \n",
       "2020-12-28  2006.70  2018.00  1995.30  2003.30   7947719.0   -0.9997   \n",
       "2020-12-29  2009.00  2012.30  1982.55  1990.05   8589407.0   -0.9998   \n",
       "2020-12-30  1995.25  2007.20  1975.55  1995.50  10173132.0   -0.9998   \n",
       "2020-12-31  1993.50  2011.90  1978.60  1985.30   8667516.0   -0.9996   \n",
       "\n",
       "            negative  neutral  positive  \n",
       "2001-05-22     0.134    0.800     0.066  \n",
       "2001-05-25     0.000    0.606     0.394  \n",
       "2001-05-28     0.135    0.807     0.059  \n",
       "2001-05-29     0.081    0.847     0.072  \n",
       "2001-05-30     0.073    0.850     0.077  \n",
       "...              ...      ...       ...  \n",
       "2020-12-24     0.082    0.854     0.064  \n",
       "2020-12-28     0.126    0.789     0.085  \n",
       "2020-12-29     0.136    0.774     0.090  \n",
       "2020-12-30     0.126    0.797     0.077  \n",
       "2020-12-31     0.124    0.783     0.094  \n",
       "\n",
       "[4867 rows x 9 columns]"
      ]
     },
     "execution_count": 13,
     "metadata": {},
     "output_type": "execute_result"
    }
   ],
   "source": [
    "\n",
    "#dropping the headline_text because it's unwanted now\n",
    "df.drop([\"headline_text\"],axis=1,inplace=True)\n",
    "#displaying the data\n",
    "df"
   ]
  },
  {
   "cell_type": "code",
   "execution_count": 14,
   "metadata": {
    "id": "P46y2YCD1bju"
   },
   "outputs": [],
   "source": [
    "#writing it to the disk\n",
    "df.to_csv(\"finalized_stock_data.csv\")"
   ]
  },
  {
   "cell_type": "markdown",
   "metadata": {
    "id": "dMQ9uB4sl-hq"
   },
   "source": [
    "**checking the finalized data**"
   ]
  },
  {
   "cell_type": "code",
   "execution_count": 15,
   "metadata": {
    "colab": {
     "base_uri": "https://localhost:8080/"
    },
    "id": "sfiXpEITl1sz",
    "outputId": "d99eb400-e43a-4734-d88b-60f7dec4c447"
   },
   "outputs": [
    {
     "data": {
      "text/plain": [
       "(4867, 9)"
      ]
     },
     "execution_count": 15,
     "metadata": {},
     "output_type": "execute_result"
    }
   ],
   "source": [
    "#shape\n",
    "df.shape"
   ]
  },
  {
   "cell_type": "code",
   "execution_count": 16,
   "metadata": {
    "colab": {
     "base_uri": "https://localhost:8080/"
    },
    "id": "sq1zeb92mEvS",
    "outputId": "64bd636b-b835-48bc-ff5e-5ef8faee5a7e"
   },
   "outputs": [
    {
     "name": "stdout",
     "output_type": "stream",
     "text": [
      "<class 'pandas.core.frame.DataFrame'>\n",
      "DatetimeIndex: 4867 entries, 2001-05-22 to 2020-12-31\n",
      "Data columns (total 9 columns):\n",
      " #   Column    Non-Null Count  Dtype  \n",
      "---  ------    --------------  -----  \n",
      " 0   Open      4867 non-null   float64\n",
      " 1   High      4867 non-null   float64\n",
      " 2   Low       4867 non-null   float64\n",
      " 3   Close     4867 non-null   float64\n",
      " 4   Volume    4867 non-null   float64\n",
      " 5   compound  4867 non-null   float64\n",
      " 6   negative  4867 non-null   float64\n",
      " 7   neutral   4867 non-null   float64\n",
      " 8   positive  4867 non-null   float64\n",
      "dtypes: float64(9)\n",
      "memory usage: 380.2 KB\n"
     ]
    }
   ],
   "source": [
    "#info\n",
    "df.info()"
   ]
  },
  {
   "cell_type": "code",
   "execution_count": 17,
   "metadata": {
    "colab": {
     "base_uri": "https://localhost:8080/"
    },
    "id": "XKeJ3Xt-mEyx",
    "outputId": "377771fd-aee8-49d4-f73e-d4511a6b68a1"
   },
   "outputs": [
    {
     "data": {
      "text/plain": [
       "Open        0\n",
       "High        0\n",
       "Low         0\n",
       "Close       0\n",
       "Volume      0\n",
       "compound    0\n",
       "negative    0\n",
       "neutral     0\n",
       "positive    0\n",
       "dtype: int64"
      ]
     },
     "execution_count": 17,
     "metadata": {},
     "output_type": "execute_result"
    }
   ],
   "source": [
    "#checking for missing values\n",
    "df.isna().sum()"
   ]
  },
  {
   "cell_type": "code",
   "execution_count": 18,
   "metadata": {
    "colab": {
     "base_uri": "https://localhost:8080/",
     "height": 325
    },
    "id": "hOCKEvBumC6i",
    "outputId": "9e11d58f-a9f7-46b3-b088-24b941365344"
   },
   "outputs": [
    {
     "data": {
      "text/html": [
       "<div>\n",
       "<style scoped>\n",
       "    .dataframe tbody tr th:only-of-type {\n",
       "        vertical-align: middle;\n",
       "    }\n",
       "\n",
       "    .dataframe tbody tr th {\n",
       "        vertical-align: top;\n",
       "    }\n",
       "\n",
       "    .dataframe thead th {\n",
       "        text-align: right;\n",
       "    }\n",
       "</style>\n",
       "<table border=\"1\" class=\"dataframe\">\n",
       "  <thead>\n",
       "    <tr style=\"text-align: right;\">\n",
       "      <th></th>\n",
       "      <th>count</th>\n",
       "      <th>mean</th>\n",
       "      <th>std</th>\n",
       "      <th>min</th>\n",
       "      <th>25%</th>\n",
       "      <th>50%</th>\n",
       "      <th>75%</th>\n",
       "      <th>max</th>\n",
       "    </tr>\n",
       "  </thead>\n",
       "  <tbody>\n",
       "    <tr>\n",
       "      <th>Open</th>\n",
       "      <td>4867.0</td>\n",
       "      <td>1.045722e+03</td>\n",
       "      <td>5.535510e+02</td>\n",
       "      <td>209.9</td>\n",
       "      <td>7.438500e+02</td>\n",
       "      <td>9.610000e+02</td>\n",
       "      <td>1.258025e+03</td>\n",
       "      <td>3298.00</td>\n",
       "    </tr>\n",
       "    <tr>\n",
       "      <th>High</th>\n",
       "      <td>4867.0</td>\n",
       "      <td>1.060354e+03</td>\n",
       "      <td>5.631445e+02</td>\n",
       "      <td>224.6</td>\n",
       "      <td>7.539000e+02</td>\n",
       "      <td>9.712500e+02</td>\n",
       "      <td>1.275000e+03</td>\n",
       "      <td>3298.00</td>\n",
       "    </tr>\n",
       "    <tr>\n",
       "      <th>Low</th>\n",
       "      <td>4867.0</td>\n",
       "      <td>1.029513e+03</td>\n",
       "      <td>5.413572e+02</td>\n",
       "      <td>203.6</td>\n",
       "      <td>7.348000e+02</td>\n",
       "      <td>9.490000e+02</td>\n",
       "      <td>1.240025e+03</td>\n",
       "      <td>3141.30</td>\n",
       "    </tr>\n",
       "    <tr>\n",
       "      <th>Close</th>\n",
       "      <td>4867.0</td>\n",
       "      <td>1.044385e+03</td>\n",
       "      <td>5.519803e+02</td>\n",
       "      <td>206.6</td>\n",
       "      <td>7.429750e+02</td>\n",
       "      <td>9.593000e+02</td>\n",
       "      <td>1.258250e+03</td>\n",
       "      <td>3220.85</td>\n",
       "    </tr>\n",
       "    <tr>\n",
       "      <th>Volume</th>\n",
       "      <td>4867.0</td>\n",
       "      <td>5.430967e+06</td>\n",
       "      <td>4.962659e+06</td>\n",
       "      <td>52820.0</td>\n",
       "      <td>2.787826e+06</td>\n",
       "      <td>4.131114e+06</td>\n",
       "      <td>6.374293e+06</td>\n",
       "      <td>65230894.00</td>\n",
       "    </tr>\n",
       "    <tr>\n",
       "      <th>compound</th>\n",
       "      <td>4867.0</td>\n",
       "      <td>-8.893865e-01</td>\n",
       "      <td>4.238417e-01</td>\n",
       "      <td>-1.0</td>\n",
       "      <td>-9.998000e-01</td>\n",
       "      <td>-9.992000e-01</td>\n",
       "      <td>-9.952000e-01</td>\n",
       "      <td>1.00</td>\n",
       "    </tr>\n",
       "    <tr>\n",
       "      <th>negative</th>\n",
       "      <td>4867.0</td>\n",
       "      <td>1.273088e-01</td>\n",
       "      <td>2.274779e-02</td>\n",
       "      <td>0.0</td>\n",
       "      <td>1.140000e-01</td>\n",
       "      <td>1.280000e-01</td>\n",
       "      <td>1.420000e-01</td>\n",
       "      <td>0.40</td>\n",
       "    </tr>\n",
       "    <tr>\n",
       "      <th>neutral</th>\n",
       "      <td>4867.0</td>\n",
       "      <td>7.860588e-01</td>\n",
       "      <td>3.143668e-02</td>\n",
       "      <td>0.0</td>\n",
       "      <td>7.660000e-01</td>\n",
       "      <td>7.820000e-01</td>\n",
       "      <td>8.030000e-01</td>\n",
       "      <td>1.00</td>\n",
       "    </tr>\n",
       "    <tr>\n",
       "      <th>positive</th>\n",
       "      <td>4867.0</td>\n",
       "      <td>8.662831e-02</td>\n",
       "      <td>1.883146e-02</td>\n",
       "      <td>0.0</td>\n",
       "      <td>7.600000e-02</td>\n",
       "      <td>8.700000e-02</td>\n",
       "      <td>9.700000e-02</td>\n",
       "      <td>0.60</td>\n",
       "    </tr>\n",
       "  </tbody>\n",
       "</table>\n",
       "</div>"
      ],
      "text/plain": [
       "           count          mean           std      min           25%  \\\n",
       "Open      4867.0  1.045722e+03  5.535510e+02    209.9  7.438500e+02   \n",
       "High      4867.0  1.060354e+03  5.631445e+02    224.6  7.539000e+02   \n",
       "Low       4867.0  1.029513e+03  5.413572e+02    203.6  7.348000e+02   \n",
       "Close     4867.0  1.044385e+03  5.519803e+02    206.6  7.429750e+02   \n",
       "Volume    4867.0  5.430967e+06  4.962659e+06  52820.0  2.787826e+06   \n",
       "compound  4867.0 -8.893865e-01  4.238417e-01     -1.0 -9.998000e-01   \n",
       "negative  4867.0  1.273088e-01  2.274779e-02      0.0  1.140000e-01   \n",
       "neutral   4867.0  7.860588e-01  3.143668e-02      0.0  7.660000e-01   \n",
       "positive  4867.0  8.662831e-02  1.883146e-02      0.0  7.600000e-02   \n",
       "\n",
       "                   50%           75%          max  \n",
       "Open      9.610000e+02  1.258025e+03      3298.00  \n",
       "High      9.712500e+02  1.275000e+03      3298.00  \n",
       "Low       9.490000e+02  1.240025e+03      3141.30  \n",
       "Close     9.593000e+02  1.258250e+03      3220.85  \n",
       "Volume    4.131114e+06  6.374293e+06  65230894.00  \n",
       "compound -9.992000e-01 -9.952000e-01         1.00  \n",
       "negative  1.280000e-01  1.420000e-01         0.40  \n",
       "neutral   7.820000e-01  8.030000e-01         1.00  \n",
       "positive  8.700000e-02  9.700000e-02         0.60  "
      ]
     },
     "execution_count": 18,
     "metadata": {},
     "output_type": "execute_result"
    }
   ],
   "source": [
    "\n",
    "#data description\n",
    "df.describe().T"
   ]
  },
  {
   "cell_type": "markdown",
   "metadata": {
    "id": "8Gq-oLoJmV1l"
   },
   "source": [
    "# **EDA of the finalized stock data**"
   ]
  },
  {
   "cell_type": "markdown",
   "metadata": {
    "id": "Me_7fXCsmhdL"
   },
   "source": [
    "**Visualizing the opening and closing prices of the stock**"
   ]
  },
  {
   "cell_type": "code",
   "execution_count": 19,
   "metadata": {
    "colab": {
     "base_uri": "https://localhost:8080/",
     "height": 345
    },
    "id": "_vjCEMdDmmIo",
    "outputId": "a45d1deb-db3e-4f8d-de82-8f147296668a"
   },
   "outputs": [
    {
     "data": {
      "text/plain": [
       "Text(0.5, 1.0, 'Closing prices')"
      ]
     },
     "execution_count": 19,
     "metadata": {},
     "output_type": "execute_result"
    },
    {
     "data": {
      "image/png": "[encoded data removed]",
      "text/plain": [
       "<Figure size 1440x432 with 2 Axes>"
      ]
     },
     "metadata": {
      "needs_background": "light"
     },
     "output_type": "display_data"
    }
   ],
   "source": [
    "fig,ax=plt.subplots(1,2,figsize=(20,6))\n",
    "sns.lineplot(data=df,x=df.index,y=\"Open\",ax=ax[0],color=\"y\").set_title(\"Opening prices\")\n",
    "sns.lineplot(data=df,x=df.index,y=\"Close\",ax=ax[1],color=\"r\").set_title(\"Closing prices\")\n"
   ]
  },
  {
   "cell_type": "markdown",
   "metadata": {
    "id": "LQSbhYMZrKEw"
   },
   "source": [
    "# **Data preprocessing for modelling**"
   ]
  },
  {
   "cell_type": "code",
   "execution_count": 20,
   "metadata": {
    "id": "BYo0xR1prLy4"
   },
   "outputs": [],
   "source": [
    "#splitting the data into input and target variables\n",
    "x=df\n",
    "y=df[\"Close\"]\n",
    "#splitting the data into train set and test set\n",
    "training_set=x.iloc[:4000].values\n",
    "test_set=x.iloc[4000:].values"
   ]
  },
  {
   "cell_type": "code",
   "execution_count": 21,
   "metadata": {
    "id": "cQTisLlzrhfk"
   },
   "outputs": [],
   "source": [
    "\n",
    "#scaling the input features with the help of standard scaler\n",
    "sc=MinMaxScaler()\n",
    "training_set_scaled=sc.fit_transform(training_set)\n",
    "test_set_scaled=sc.fit_transform(test_set)"
   ]
  },
  {
   "cell_type": "code",
   "execution_count": 22,
   "metadata": {
    "id": "UqcXCD7crmY8"
   },
   "outputs": [],
   "source": [
    "\n",
    "# the model will look into past 100 timesteps predict the next feature and will continue to do so\n",
    "length=100\n",
    "#the training set creation\n",
    "x_train=[]\n",
    "y_train=[]\n",
    "for i in range(length,len(training_set)):\n",
    "    x_train.append(training_set_scaled[i-length:i,0])\n",
    "    y_train.append(training_set_scaled[i,0])\n",
    "#converting train set into array\n",
    "x_train,y_train=np.array(x_train),np.array(y_train)\n",
    "x_train=np.reshape(x_train,(x_train.shape[0],x_train.shape[1],1))\n",
    "\n",
    "\n",
    "# The testing set creation\n",
    "x_test=[]\n",
    "y_test=[]\n",
    "for i in range(length,len(test_set)):\n",
    "    x_test.append(test_set_scaled[i-length:i,0])\n",
    "    y_test.append(test_set_scaled[i,0])\n",
    "# converting test set into array\n",
    "x_test,y_test=np.array(x_test),np.array(y_test)\n",
    "x_test=np.reshape(x_test,(x_test.shape[0],x_test.shape[1],1))"
   ]
  },
  {
   "cell_type": "code",
   "execution_count": 23,
   "metadata": {
    "colab": {
     "base_uri": "https://localhost:8080/"
    },
    "id": "UNZnPw25rpyJ",
    "outputId": "3b8214b2-367b-43a2-ad44-e9980dfe9c49"
   },
   "outputs": [
    {
     "data": {
      "text/plain": [
       "((3900, 100, 1), (3900,), (767, 100, 1), (767,))"
      ]
     },
     "execution_count": 23,
     "metadata": {},
     "output_type": "execute_result"
    }
   ],
   "source": [
    "#checking the shape of the created datastructures\n",
    "x_train.shape,y_train.shape,x_test.shape,y_test.shape"
   ]
  },
  {
   "cell_type": "markdown",
   "metadata": {
    "id": "mHFC9z6W2w7e"
   },
   "source": [
    "# **Modelling**"
   ]
  },
  {
   "cell_type": "code",
   "execution_count": 24,
   "metadata": {
    "colab": {
     "base_uri": "https://localhost:8080/"
    },
    "id": "5961Pyy-rseA",
    "outputId": "c50fe1ed-26b1-405e-f047-57e11bfdd028"
   },
   "outputs": [
    {
     "name": "stdout",
     "output_type": "stream",
     "text": [
      "Model: \"sequential\"\n",
      "_________________________________________________________________\n",
      " Layer (type)                Output Shape              Param #   \n",
      "=================================================================\n",
      " lstm (LSTM)                 (None, 100, 100)          40800     \n",
      "                                                                 \n",
      " dropout (Dropout)           (None, 100, 100)          0         \n",
      "                                                                 \n",
      " lstm_1 (LSTM)               (None, 100, 100)          80400     \n",
      "                                                                 \n",
      " dropout_1 (Dropout)         (None, 100, 100)          0         \n",
      "                                                                 \n",
      " lstm_2 (LSTM)               (None, 100)               80400     \n",
      "                                                                 \n",
      " dropout_2 (Dropout)         (None, 100)               0         \n",
      "                                                                 \n",
      " dense (Dense)               (None, 1)                 101       \n",
      "                                                                 \n",
      "=================================================================\n",
      "Total params: 201,701\n",
      "Trainable params: 201,701\n",
      "Non-trainable params: 0\n",
      "_________________________________________________________________\n"
     ]
    }
   ],
   "source": [
    "# setting the model architecture\n",
    "model=Sequential()\n",
    "model.add(LSTM(units=100,return_sequences=True,input_shape=(x_train.shape[1], 1),activation=\"tanh\"))\n",
    "model.add(Dropout(0.2))\n",
    "model.add(LSTM(units=100,return_sequences=True,activation=\"tanh\"))\n",
    "model.add(Dropout(0.2))\n",
    "model.add(LSTM(units=100,return_sequences=False,activation=\"tanh\"))\n",
    "model.add(Dropout(0.2))\n",
    "model.add(Dense(1))\n",
    "#printing model summary\n",
    "model.summary()"
   ]
  },
  {
   "cell_type": "code",
   "execution_count": 25,
   "metadata": {
    "colab": {
     "base_uri": "https://localhost:8080/"
    },
    "id": "4-dMuZ-Xrvij",
    "outputId": "e54e508b-459d-4143-9112-066ff749d71b"
   },
   "outputs": [
    {
     "name": "stdout",
     "output_type": "stream",
     "text": [
      "Epoch 1/10\n",
      "178/178 [==============================] - 51s 242ms/step - loss: 0.0064 - val_loss: 0.0479\n",
      "Epoch 2/10\n",
      "178/178 [==============================] - 39s 221ms/step - loss: 0.0088 - val_loss: 0.0427\n",
      "Epoch 3/10\n",
      "178/178 [==============================] - 39s 220ms/step - loss: 0.0070 - val_loss: 0.0202\n",
      "Epoch 4/10\n",
      "178/178 [==============================] - 40s 224ms/step - loss: 0.0025 - val_loss: 0.0132\n",
      "Epoch 5/10\n",
      "178/178 [==============================] - 40s 223ms/step - loss: 0.0020 - val_loss: 0.0113\n",
      "Epoch 6/10\n",
      "178/178 [==============================] - 40s 227ms/step - loss: 0.0018 - val_loss: 0.0095\n",
      "Epoch 7/10\n",
      "178/178 [==============================] - 40s 223ms/step - loss: 0.0016 - val_loss: 0.0081\n",
      "Epoch 8/10\n",
      "178/178 [==============================] - 38s 214ms/step - loss: 0.0016 - val_loss: 0.0090\n",
      "Epoch 9/10\n",
      "178/178 [==============================] - 38s 213ms/step - loss: 0.0021 - val_loss: 0.0096\n",
      "Epoch 10/10\n",
      "178/178 [==============================] - 39s 218ms/step - loss: 0.0021 - val_loss: 0.0088\n"
     ]
    }
   ],
   "source": [
    "# introducing early stopping if val loss doesn't go down for 4 iterations\n",
    "es=EarlyStopping(monitor=\"val_loss\",patience=4,mode=\"min\")\n",
    "#compiling\n",
    "model.compile(optimizer=\"adam\",loss=\"mse\")\n",
    "#fitting the model\n",
    "history=model.fit(x_train,y_train,validation_data=(x_test,y_test),epochs=10,batch_size=22,shuffle=False,callbacks=[es])"
   ]
  },
  {
   "cell_type": "code",
   "execution_count": 26,
   "metadata": {
    "colab": {
     "base_uri": "https://localhost:8080/",
     "height": 353
    },
    "id": "ifxAgAcosxHF",
    "outputId": "c4897047-5d20-48e6-9bf9-db3e88f7a235"
   },
   "outputs": [
    {
     "data": {
      "text/plain": [
       "<matplotlib.legend.Legend at 0x1eda3f2f550>"
      ]
     },
     "execution_count": 26,
     "metadata": {},
     "output_type": "execute_result"
    },
    {
     "data": {
      "image/png": "[encoded data removed]",
      "text/plain": [
       "<Figure size 1080x360 with 1 Axes>"
      ]
     },
     "metadata": {
      "needs_background": "light"
     },
     "output_type": "display_data"
    }
   ],
   "source": [
    "#creating the dataframe contaning the validation loss and  train_inver_transform\n",
    "loss=pd.DataFrame(model.history.history)\n",
    "plt.figure(figsize=(15,5))\n",
    "plt.plot(loss)\n",
    "plt.title(\"losses vs epochs\")\n",
    "plt.legend([\"train_loss\",\"validation_loss\"])"
   ]
  },
  {
   "cell_type": "code",
   "execution_count": 27,
   "metadata": {
    "colab": {
     "base_uri": "https://localhost:8080/"
    },
    "id": "qjO1F4y3uksX",
    "outputId": "ce7ef90b-10e1-4abe-fcce-5bfcd4d1d18e"
   },
   "outputs": [
    {
     "name": "stdout",
     "output_type": "stream",
     "text": [
      "model saved to the disk\n"
     ]
    }
   ],
   "source": [
    "#saving model to the disk as json file\n",
    "model_json=model.to_json()\n",
    "with open(\"model.json\",\"w\") as json_file:\n",
    "    json_file.write(model_json)\n",
    "\n",
    "#serialize weights to HDF5\n",
    "model.save_weights(\"model.h5\")\n",
    "print(\"model saved to the disk\")"
   ]
  },
  {
   "cell_type": "code",
   "execution_count": 28,
   "metadata": {
    "id": "QKlQVke3urKF"
   },
   "outputs": [
    {
     "name": "stdout",
     "output_type": "stream",
     "text": [
      "24/24 [==============================] - 4s 77ms/step\n"
     ]
    }
   ],
   "source": [
    "#predicting through the model\n",
    "pred=model.predict(x_test)"
   ]
  },
  {
   "cell_type": "code",
   "execution_count": 29,
   "metadata": {
    "colab": {
     "base_uri": "https://localhost:8080/"
    },
    "id": "ex0kAjz6uuEZ",
    "outputId": "3c3af122-c014-4a71-9683-c0331c1b587d"
   },
   "outputs": [
    {
     "data": {
      "text/plain": [
       "(array([6.52209359e-04, 6.34537898e-04, 6.52975938e-04, 6.47815243e-04,\n",
       "        1.55242233e-08, 5.00075011e-01, 7.75193798e+00, 7.19424460e+00,\n",
       "        1.23456790e+01]),\n",
       "                Open     High      Low    Close   Volume\n",
       " Date                                                   \n",
       " 2001-01-02   340.35   359.00   340.25   354.30  6623970\n",
       " 2001-01-03   355.00   361.70   353.00   360.05  8844088\n",
       " 2001-01-04   359.10   366.90   356.20   357.80  5982701\n",
       " 2001-01-05   356.50   366.80   356.50   364.30  7460148\n",
       " 2001-01-08   362.50   367.45   357.25   360.20  6842731\n",
       " ...             ...      ...      ...      ...      ...\n",
       " 2021-04-26  1920.00  1962.00  1911.50  1937.85  9620785\n",
       " 2021-04-27  1940.00  1997.20  1938.25  1988.65  9226547\n",
       " 2021-04-28  1997.85  2008.00  1980.15  1997.30  7902002\n",
       " 2021-04-29  2022.90  2044.50  2007.30  2024.05  8035915\n",
       " 2021-04-30  2008.50  2036.00  1987.55  1994.50  9150974\n",
       " \n",
       " [5055 rows x 5 columns])"
      ]
     },
     "execution_count": 29,
     "metadata": {},
     "output_type": "execute_result"
    }
   ],
   "source": [
    "#checking the scales and comparing it with our closing price column\n",
    "sc.scale_,df_stock"
   ]
  },
  {
   "cell_type": "code",
   "execution_count": 30,
   "metadata": {
    "id": "4M0IGsdHxU55"
   },
   "outputs": [],
   "source": [
    "# the 4th column is \"close\" so we should scale our values by the 4th value(corresponding value) in the scale array\n",
    "scale=1/6.47815243e-04\n",
    "#scaling the predicted values\n",
    "pred=pred*scale\n",
    "#scaling the test values\n",
    "test=y_test*scale"
   ]
  },
  {
   "cell_type": "code",
   "execution_count": 31,
   "metadata": {
    "colab": {
     "base_uri": "https://localhost:8080/",
     "height": 356
    },
    "id": "6hClsGCcuyiy",
    "outputId": "bea02c24-eb3c-4296-b9e8-265884b08cc6"
   },
   "outputs": [
    {
     "data": {
      "text/html": [
       "<div>\n",
       "<style scoped>\n",
       "    .dataframe tbody tr th:only-of-type {\n",
       "        vertical-align: middle;\n",
       "    }\n",
       "\n",
       "    .dataframe tbody tr th {\n",
       "        vertical-align: top;\n",
       "    }\n",
       "\n",
       "    .dataframe thead th {\n",
       "        text-align: right;\n",
       "    }\n",
       "</style>\n",
       "<table border=\"1\" class=\"dataframe\">\n",
       "  <thead>\n",
       "    <tr style=\"text-align: right;\">\n",
       "      <th></th>\n",
       "      <th>test</th>\n",
       "      <th>pred</th>\n",
       "    </tr>\n",
       "  </thead>\n",
       "  <tbody>\n",
       "    <tr>\n",
       "      <th>0</th>\n",
       "      <td>156.554753</td>\n",
       "      <td>146.457611</td>\n",
       "    </tr>\n",
       "    <tr>\n",
       "      <th>1</th>\n",
       "      <td>159.172389</td>\n",
       "      <td>157.078812</td>\n",
       "    </tr>\n",
       "    <tr>\n",
       "      <th>2</th>\n",
       "      <td>151.118125</td>\n",
       "      <td>165.955383</td>\n",
       "    </tr>\n",
       "    <tr>\n",
       "      <th>3</th>\n",
       "      <td>150.715412</td>\n",
       "      <td>171.791534</td>\n",
       "    </tr>\n",
       "    <tr>\n",
       "      <th>4</th>\n",
       "      <td>133.600101</td>\n",
       "      <td>174.689575</td>\n",
       "    </tr>\n",
       "    <tr>\n",
       "      <th>5</th>\n",
       "      <td>122.575828</td>\n",
       "      <td>173.531265</td>\n",
       "    </tr>\n",
       "    <tr>\n",
       "      <th>6</th>\n",
       "      <td>110.041379</td>\n",
       "      <td>168.280731</td>\n",
       "    </tr>\n",
       "    <tr>\n",
       "      <th>7</th>\n",
       "      <td>119.052087</td>\n",
       "      <td>159.371597</td>\n",
       "    </tr>\n",
       "    <tr>\n",
       "      <th>8</th>\n",
       "      <td>139.238086</td>\n",
       "      <td>149.848129</td>\n",
       "    </tr>\n",
       "    <tr>\n",
       "      <th>9</th>\n",
       "      <td>143.063861</td>\n",
       "      <td>143.702408</td>\n",
       "    </tr>\n",
       "  </tbody>\n",
       "</table>\n",
       "</div>"
      ],
      "text/plain": [
       "         test        pred\n",
       "0  156.554753  146.457611\n",
       "1  159.172389  157.078812\n",
       "2  151.118125  165.955383\n",
       "3  150.715412  171.791534\n",
       "4  133.600101  174.689575\n",
       "5  122.575828  173.531265\n",
       "6  110.041379  168.280731\n",
       "7  119.052087  159.371597\n",
       "8  139.238086  149.848129\n",
       "9  143.063861  143.702408"
      ]
     },
     "execution_count": 31,
     "metadata": {},
     "output_type": "execute_result"
    }
   ],
   "source": [
    "#creating the dataframe of test values vs predicted values\n",
    "test_vs_pred=pd.DataFrame(columns=[\"test\",\"pred\"])\n",
    "test_vs_pred[\"test\"]=test\n",
    "test_vs_pred[\"pred\"]=pred.flatten()\n",
    "#checking the dataframne created\n",
    "test_vs_pred.head(10)"
   ]
  },
  {
   "cell_type": "code",
   "execution_count": 36,
   "metadata": {
    "colab": {
     "base_uri": "https://localhost:8080/",
     "height": 461
    },
    "id": "-n4qb3BIxBTf",
    "outputId": "086b59a7-7b83-4e8a-e818-a26c0f56223f"
   },
   "outputs": [
    {
     "data": {
      "text/plain": [
       "Text(700, 400, 'MSE:20954.43')"
      ]
     },
     "execution_count": 36,
     "metadata": {},
     "output_type": "execute_result"
    },
    {
     "data": {
      "image/png": "[encoded data removed]",
      "text/plain": [
       "<Figure size 1080x504 with 1 Axes>"
      ]
     },
     "metadata": {
      "needs_background": "light"
     },
     "output_type": "display_data"
    }
   ],
   "source": [
    "#the lineplot\n",
    "plt.figure(figsize=(15,7))\n",
    "plt.plot(test_vs_pred)\n",
    "plt.title(\"Test values vs Predicted values\")\n",
    "plt.legend([\"test\",\"pred\"])\n",
    "#calculating the losses\n",
    "r2=np.round(r2_score(test,pred),2)\n",
    "mse=np.round(mean_squared_error(test,pred),2)\n",
    "#incorporating the losses in the plot\n",
    "plt.text(x=700,y=350,s=\"R2 score:{}\".format(r2))\n",
    "plt.text(x=700,y=400,s=\"MSE:{}\".format(mse))"
   ]
  },
  {
   "cell_type": "code",
   "execution_count": 33,
   "metadata": {
    "id": "3oee09jh2psU"
   },
   "outputs": [
    {
     "data": {
      "text/plain": [
       "0.85"
      ]
     },
     "execution_count": 33,
     "metadata": {},
     "output_type": "execute_result"
    }
   ],
   "source": [
    "r2"
   ]
  },
  {
   "cell_type": "code",
   "execution_count": null,
   "metadata": {},
   "outputs": [],
   "source": []
  }
 ],
 "metadata": {
  "accelerator": "GPU",
  "colab": {
   "collapsed_sections": [],
   "name": "stock_price_prediction.ipynb",
   "provenance": []
  },
  "kernelspec": {
   "display_name": "Python 3",
   "language": "python",
   "name": "python3"
  },
  "language_info": {
   "codemirror_mode": {
    "name": "ipython",
    "version": 3
   },
   "file_extension": ".py",
   "mimetype": "text/x-python",
   "name": "python",
   "nbconvert_exporter": "python",
   "pygments_lexer": "ipython3",
   "version": "3.8.8"
  }
 },
 "nbformat": 4,
 "nbformat_minor": 1
}
